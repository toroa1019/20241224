{
  "nbformat": 4,
  "nbformat_minor": 0,
  "metadata": {
    "colab": {
      "provenance": [],
      "authorship_tag": "ABX9TyOG1Q5BztB7XqdQ9Fld1MXA",
      "include_colab_link": true
    },
    "kernelspec": {
      "name": "python3",
      "display_name": "Python 3"
    },
    "language_info": {
      "name": "python"
    }
  },
  "cells": [
    {
      "cell_type": "markdown",
      "metadata": {
        "id": "view-in-github",
        "colab_type": "text"
      },
      "source": [
        "<a href=\"https://colab.research.google.com/github/toroa1019/20241224/blob/main/1224_01.ipynb\" target=\"_parent\"><img src=\"https://colab.research.google.com/assets/colab-badge.svg\" alt=\"Open In Colab\"/></a>"
      ]
    },
    {
      "cell_type": "code",
      "execution_count": 11,
      "metadata": {
        "colab": {
          "base_uri": "https://localhost:8080/"
        },
        "id": "LT7xHE4ebxfz",
        "outputId": "54a8730a-4056-495e-918e-b0ae4556ef1f"
      },
      "outputs": [
        {
          "output_type": "stream",
          "name": "stdout",
          "text": [
            "請輸入體重:70\n",
            "請輸入身高:170\n",
            "你的體重是:70.0\n",
            "你的身高是:170.0\n",
            "bmi是:24.221453287197235\n",
            "正常\n"
          ]
        }
      ],
      "source": [
        "# bmi = weight(kg) / height(m) ^ 2\n",
        "weight = float(input(\"請輸入體重:\"))\n",
        "height = float(input(\"請輸入身高:\"))\n",
        "bmi = weight / (height / 100) ** 2\n",
        "print(\"你的體重是:\" + str(weight))\n",
        "print(\"你的身高是:\" + str(height))\n",
        "print(\"bmi是:\" + str(bmi))\n",
        "\n",
        "if bmi > 25:\n",
        "    print(\"過重\")\n",
        "    print(\"少吃多動\")\n",
        "else:\n",
        "    print(\"正常\")"
      ]
    },
    {
      "cell_type": "code",
      "source": [
        "from ctypes import c_bool\n",
        "\n",
        "import random\n",
        "\n",
        "my = int(input(\"0.剪刀 1.石頭 2.布\" ))\n",
        "com = random.randint(0, 2)\n",
        "trans = [\"剪刀, 石頭, 布\"]\n",
        "print (\"我出\", trans[my])\n",
        "print (\"電腦出\", trans[com])\n",
        "\n"
      ],
      "metadata": {
        "colab": {
          "base_uri": "https://localhost:8080/",
          "height": 228
        },
        "id": "34pzvAbusRgr",
        "outputId": "e66059bf-51fd-4dab-af3a-ec5a543dc245"
      },
      "execution_count": 30,
      "outputs": [
        {
          "output_type": "stream",
          "name": "stdout",
          "text": [
            "0.剪刀 1.石頭 2.布0\n",
            "我出 剪刀, 石頭, 布\n"
          ]
        },
        {
          "output_type": "error",
          "ename": "IndexError",
          "evalue": "list index out of range",
          "traceback": [
            "\u001b[0;31m---------------------------------------------------------------------------\u001b[0m",
            "\u001b[0;31mIndexError\u001b[0m                                Traceback (most recent call last)",
            "\u001b[0;32m<ipython-input-30-c99fcf11b33a>\u001b[0m in \u001b[0;36m<cell line: 9>\u001b[0;34m()\u001b[0m\n\u001b[1;32m      7\u001b[0m \u001b[0mtrans\u001b[0m \u001b[0;34m=\u001b[0m \u001b[0;34m[\u001b[0m\u001b[0;34m\"剪刀, 石頭, 布\"\u001b[0m\u001b[0;34m]\u001b[0m\u001b[0;34m\u001b[0m\u001b[0;34m\u001b[0m\u001b[0m\n\u001b[1;32m      8\u001b[0m \u001b[0mprint\u001b[0m \u001b[0;34m(\u001b[0m\u001b[0;34m\"我出\"\u001b[0m\u001b[0;34m,\u001b[0m \u001b[0mtrans\u001b[0m\u001b[0;34m[\u001b[0m\u001b[0mmy\u001b[0m\u001b[0;34m]\u001b[0m\u001b[0;34m)\u001b[0m\u001b[0;34m\u001b[0m\u001b[0;34m\u001b[0m\u001b[0m\n\u001b[0;32m----> 9\u001b[0;31m \u001b[0mprint\u001b[0m \u001b[0;34m(\u001b[0m\u001b[0;34m\"電腦出\"\u001b[0m\u001b[0;34m,\u001b[0m \u001b[0mtrans\u001b[0m\u001b[0;34m[\u001b[0m\u001b[0mcom\u001b[0m\u001b[0;34m]\u001b[0m\u001b[0;34m)\u001b[0m\u001b[0;34m\u001b[0m\u001b[0;34m\u001b[0m\u001b[0m\n\u001b[0m\u001b[1;32m     10\u001b[0m \u001b[0;34m\u001b[0m\u001b[0m\n",
            "\u001b[0;31mIndexError\u001b[0m: list index out of range"
          ]
        }
      ]
    }
  ]
}