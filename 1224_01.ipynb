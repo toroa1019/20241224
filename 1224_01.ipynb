{
  "nbformat": 4,
  "nbformat_minor": 0,
  "metadata": {
    "colab": {
      "provenance": [],
      "authorship_tag": "ABX9TyNtjsbzVrxvuevJXptZ44RP",
      "include_colab_link": true
    },
    "kernelspec": {
      "name": "python3",
      "display_name": "Python 3"
    },
    "language_info": {
      "name": "python"
    }
  },
  "cells": [
    {
      "cell_type": "markdown",
      "metadata": {
        "id": "view-in-github",
        "colab_type": "text"
      },
      "source": [
        "<a href=\"https://colab.research.google.com/github/toroa1019/20241224/blob/main/1224_01.ipynb\" target=\"_parent\"><img src=\"https://colab.research.google.com/assets/colab-badge.svg\" alt=\"Open In Colab\"/></a>"
      ]
    },
    {
      "cell_type": "code",
      "execution_count": 7,
      "metadata": {
        "colab": {
          "base_uri": "https://localhost:8080/"
        },
        "id": "LT7xHE4ebxfz",
        "outputId": "8c0d44b6-796f-4433-a53e-446629d45954"
      },
      "outputs": [
        {
          "output_type": "stream",
          "name": "stdout",
          "text": [
            "請輸入體重20\n",
            "請輸入身高20\n",
            "你體重是:20.0\n",
            "你身高是:20.0\n",
            "BMI是:499.9999999999999\n",
            "過重\n",
            "少吃多動\n"
          ]
        }
      ],
      "source": [
        "# 計算BMI #\n",
        "\n",
        "weight = float(input(\"請輸入體重\"))\n",
        "height = float(input(\"請輸入身高\"))\n",
        "BMI = weight / (height / 100) **2\n",
        "print(\"你體重是:\" + str(weight))\n",
        "print(\"你身高是:\" + str(height))\n",
        "print(\"BMI是:\" + str(BMI))\n",
        "\n",
        "if BMI >25:\n",
        "    print(\"過重\")\n",
        "    print(\"少吃多動\")\n",
        "else:\n",
        "    print(\"正常\")\n"
      ]
    },
    {
      "cell_type": "code",
      "source": [],
      "metadata": {
        "id": "34pzvAbusRgr"
      },
      "execution_count": null,
      "outputs": []
    }
  ]
}